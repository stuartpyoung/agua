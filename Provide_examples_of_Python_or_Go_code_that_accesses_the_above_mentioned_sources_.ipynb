{
  "cells": [
    {
      "cell_type": "markdown",
      "metadata": {
        "id": "view-in-github",
        "colab_type": "text"
      },
      "source": [
        "<a href=\"https://colab.research.google.com/github/stuartpyoung/agua/blob/master/Provide_examples_of_Python_or_Go_code_that_accesses_the_above_mentioned_sources_.ipynb\" target=\"_parent\"><img src=\"https://colab.research.google.com/assets/colab-badge.svg\" alt=\"Open In Colab\"/></a>"
      ]
    },
    {
      "cell_type": "markdown",
      "source": [
        "Sure, here are some examples of Python and Go code that accesses the above-mentioned sources:\n",
        "\n",
        "**Python**"
      ],
      "metadata": {
        "id": "P4q2YGuNTNmM"
      }
    },
    {
      "cell_type": "code",
      "source": [],
      "metadata": {
        "id": "YPrq11wpTSd3"
      },
      "execution_count": null,
      "outputs": []
    },
    {
      "cell_type": "markdown",
      "source": [
        "TEST TEXT"
      ],
      "metadata": {
        "id": "t1I5z6rcTS2y"
      }
    },
    {
      "cell_type": "code",
      "source": [
        "import quandl\n",
        "\n",
        "# Get the OHLC prices for the Apple stock\n",
        "data = quandl.get(\"AAPL/Adj_Close\")\n",
        "\n",
        "# Print the first few rows of data\n",
        "print(data.head())"
      ],
      "outputs": [],
      "execution_count": null,
      "metadata": {
        "id": "5Neo3v3ITNmP"
      }
    },
    {
      "cell_type": "markdown",
      "source": [
        "**Go**\n",
        "\n",
        "```go\n",
        "package main\n",
        "\n",
        "import (\n",
        "    \"fmt\"\n",
        "    \"github.com/quandl/go-quandl\"\n",
        ")\n",
        "\n",
        "func main() {\n",
        "    // Create a Quandl client\n",
        "    client := quandl.NewClient(\"<API_KEY>\")\n",
        "\n",
        "    // Get the OHLC prices for the Apple stock\n",
        "    data, err := client.Get(\"AAPL/Adj_Close\")\n",
        "    if err != nil {\n",
        "        fmt.Println(err)\n",
        "        return\n",
        "    }\n",
        "\n",
        "    // Print the first few rows of data\n",
        "    fmt.Println(data.FirstN(5))\n",
        "}\n",
        "```\n",
        "\n",
        "These are just a few examples of how to access stock market data programmatically using Python and Go. There are many other ways to do this, and the specific code that you use will depend on your specific needs and requirements.\n",
        "\n",
        "I hope this helps! Let me know if you have any other questions."
      ],
      "metadata": {
        "id": "FNVh9d2_TNmQ"
      }
    }
  ],
  "metadata": {
    "colab": {
      "provenance": [],
      "include_colab_link": true
    },
    "kernelspec": {
      "display_name": "Python 3",
      "name": "python3"
    }
  },
  "nbformat": 4,
  "nbformat_minor": 0
}